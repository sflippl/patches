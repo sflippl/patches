{
 "cells": [
  {
   "cell_type": "markdown",
   "metadata": {},
   "source": [
    "# Some Pytorch experiments"
   ]
  },
  {
   "cell_type": "code",
   "execution_count": 1,
   "metadata": {},
   "outputs": [],
   "source": [
    "import lettertask\n",
    "import torch\n",
    "import torch.nn as nn\n",
    "import numpy as np\n",
    "import torch.optim as optim\n",
    "import lazytools_sflippl as lazytools\n",
    "import plotnine as gg\n",
    "from tqdm import tqdm"
   ]
  },
  {
   "cell_type": "code",
   "execution_count": 185,
   "metadata": {},
   "outputs": [],
   "source": [
    "cbm = lettertask.data.CompositionalBinaryModel(\n",
    "    width=[2],\n",
    "    change_probability=[0.05],\n",
    "    samples=10000,\n",
    "    seed=1001\n",
    ")"
   ]
  },
  {
   "cell_type": "markdown",
   "metadata": {},
   "source": [
    "## Supervised model"
   ]
  },
  {
   "cell_type": "code",
   "execution_count": 151,
   "metadata": {},
   "outputs": [],
   "source": [
    "class CompositionalBinaryData:\n",
    "    def __init__(self, cbm):\n",
    "        self.cbm = cbm\n",
    "\n",
    "    def __len__(self):\n",
    "        len(self.cbm.atoms[0].values)\n",
    "\n",
    "    def __getitem__(self, idx):\n",
    "        arr = np.zeros(shape=(1, 2))\n",
    "        arr[0, self.cbm.atoms[0].locations[idx]] = self.cbm.atoms[0].values[idx]\n",
    "        latent_value = self.cbm.atoms[0].values[idx]\n",
    "        return {'input': torch.from_numpy(arr.astype(np.float32)),\n",
    "                'latent_value': torch.from_numpy(latent_value.astype(np.float32))}"
   ]
  },
  {
   "cell_type": "code",
   "execution_count": 152,
   "metadata": {},
   "outputs": [],
   "source": [
    "cbd = CompositionalBinaryData(cbm)"
   ]
  },
  {
   "cell_type": "code",
   "execution_count": 153,
   "metadata": {},
   "outputs": [
    {
     "data": {
      "text/plain": [
       "{'input': tensor([[1., 0.]]), 'latent_value': tensor([1.])}"
      ]
     },
     "execution_count": 153,
     "metadata": {},
     "output_type": "execute_result"
    }
   ],
   "source": [
    "cbd[0]"
   ]
  },
  {
   "cell_type": "code",
   "execution_count": 154,
   "metadata": {},
   "outputs": [],
   "source": [
    "class Classification(nn.Module):\n",
    "    def __init__(self):\n",
    "        super().__init__()\n",
    "        self.classification = nn.Linear(2, 1, bias=False)\n",
    "\n",
    "    def forward(self, x):\n",
    "        return self.classification(x)"
   ]
  },
  {
   "cell_type": "code",
   "execution_count": 155,
   "metadata": {},
   "outputs": [],
   "source": [
    "criterion = nn.MSELoss()"
   ]
  },
  {
   "cell_type": "code",
   "execution_count": 156,
   "metadata": {},
   "outputs": [],
   "source": [
    "clss = Classification()"
   ]
  },
  {
   "cell_type": "code",
   "execution_count": 157,
   "metadata": {},
   "outputs": [],
   "source": [
    "optimizer = optim.SGD(clss.parameters(), lr=0.01)"
   ]
  },
  {
   "cell_type": "code",
   "execution_count": 158,
   "metadata": {},
   "outputs": [],
   "source": [
    "for i, data in enumerate(cbd):\n",
    "    optimizer.zero_grad()\n",
    "    prediction = clss(data['input'])\n",
    "    loss = criterion(prediction, data['latent_value'].unsqueeze(1))\n",
    "    loss.backward()\n",
    "    optimizer.step()"
   ]
  },
  {
   "cell_type": "code",
   "execution_count": 159,
   "metadata": {},
   "outputs": [
    {
     "data": {
      "text/plain": [
       "[Parameter containing:\n",
       " tensor([[1.0000, 1.0000]], requires_grad=True)]"
      ]
     },
     "execution_count": 159,
     "metadata": {},
     "output_type": "execute_result"
    }
   ],
   "source": [
    "list(clss.parameters())"
   ]
  },
  {
   "cell_type": "markdown",
   "metadata": {},
   "source": [
    "## Prediction"
   ]
  },
  {
   "cell_type": "code",
   "execution_count": 186,
   "metadata": {},
   "outputs": [],
   "source": [
    "class Predictor(nn.Module):\n",
    "    def __init__(self):\n",
    "        super().__init__()\n",
    "        self.predictor = nn.Linear(1, 5, bias=False)\n",
    "\n",
    "    def forward(self, x):\n",
    "        return self.predictor(x)"
   ]
  },
  {
   "cell_type": "code",
   "execution_count": 187,
   "metadata": {},
   "outputs": [],
   "source": [
    "class TimeSeriesCBD(torch.utils.data.Dataset):\n",
    "    def __init__(self, cbm, timesteps=2):\n",
    "        super().__init__()\n",
    "        self.cbm = cbm\n",
    "        self.timesteps = timesteps\n",
    "\n",
    "    def __len__(self):\n",
    "        return len(self.cbm.atoms[0].values)-self.timesteps\n",
    "\n",
    "    def __getitem__(self, idx):\n",
    "        return {\n",
    "            'current_value': torch.from_numpy(self.cbm.atoms[0].values[idx].astype(np.float32)),\n",
    "            'future_values': torch.from_numpy(self.cbm.atoms[0].values[(idx+1):(idx+1+self.timesteps)].astype(np.float32))\n",
    "        }"
   ]
  },
  {
   "cell_type": "code",
   "execution_count": 188,
   "metadata": {},
   "outputs": [],
   "source": [
    "tscbd = TimeSeriesCBD(cbm, timesteps=5)"
   ]
  },
  {
   "cell_type": "code",
   "execution_count": 189,
   "metadata": {},
   "outputs": [],
   "source": [
    "pred = Predictor()"
   ]
  },
  {
   "cell_type": "code",
   "execution_count": 190,
   "metadata": {},
   "outputs": [],
   "source": [
    "optimizer = optim.SGD(pred.parameters(), lr=0.01)"
   ]
  },
  {
   "cell_type": "code",
   "execution_count": 191,
   "metadata": {},
   "outputs": [
    {
     "data": {
      "text/plain": [
       "99995"
      ]
     },
     "execution_count": 191,
     "metadata": {},
     "output_type": "execute_result"
    }
   ],
   "source": [
    "len(tscbd)"
   ]
  },
  {
   "cell_type": "code",
   "execution_count": 212,
   "metadata": {},
   "outputs": [],
   "source": [
    "for epoch in range(10):\n",
    "    for i, data in enumerate(tscbd):\n",
    "        if i>=len(tscbd): break\n",
    "        optimizer.zero_grad()\n",
    "        prediction = pred(data['current_value'])\n",
    "        loss = criterion(prediction, data['future_values'].reshape(5))\n",
    "        loss.backward()\n",
    "        optimizer.step()"
   ]
  },
  {
   "cell_type": "code",
   "execution_count": 213,
   "metadata": {},
   "outputs": [
    {
     "data": {
      "text/plain": [
       "[Parameter containing:\n",
       " tensor([[0.9053],\n",
       "         [0.8174],\n",
       "         [0.7488],\n",
       "         [0.6973],\n",
       "         [0.6531]], requires_grad=True)]"
      ]
     },
     "execution_count": 213,
     "metadata": {},
     "output_type": "execute_result"
    }
   ],
   "source": [
    "list(pred.parameters())"
   ]
  },
  {
   "cell_type": "code",
   "execution_count": 214,
   "metadata": {},
   "outputs": [
    {
     "data": {
      "image/png": "[encoded data removed]",
      "text/plain": [
       "<Figure size 640x480 with 1 Axes>"
      ]
     },
     "metadata": {},
     "output_type": "display_data"
    },
    {
     "data": {
      "text/plain": [
       "<ggplot: (8748566024009)>"
      ]
     },
     "execution_count": 214,
     "metadata": {},
     "output_type": "execute_result"
    }
   ],
   "source": [
    "(gg.ggplot(lazytools.array_to_dataframe(list(pred.parameters())[0].detach().numpy())) + \n",
    " gg.geom_line(gg.aes(x = 'dim0', y = 'array')) + \n",
    " gg.stat_function(fun = lambda x: 0.9**(x+1), color='blue')\n",
    ")"
   ]
  },
  {
   "cell_type": "markdown",
   "metadata": {},
   "source": [
    "## Predicting future latents"
   ]
  },
  {
   "cell_type": "code",
   "execution_count": 208,
   "metadata": {},
   "outputs": [],
   "source": [
    "class LatentTimeSeries(torch.utils.data.Dataset):\n",
    "    def __init__(self, cbm, timesteps=5):\n",
    "        super().__init__()\n",
    "        self.timesteps = timesteps\n",
    "        self.cbm = cbm\n",
    "\n",
    "    def __len__(self):\n",
    "        return len(self.cbm.atoms[0].values)-self.timesteps\n",
    "\n",
    "    def __getitem__(self, idx):\n",
    "        arr = np.zeros(shape=(1, 2))\n",
    "        arr[0, self.cbm.atoms[0].locations[idx]] = self.cbm.atoms[0].values[idx]\n",
    "        return {\n",
    "            'current_value': torch.from_numpy(arr.astype(np.float32)),\n",
    "            'future_latent_values': torch.from_numpy(self.cbm.atoms[0].values[(idx+1):(idx+1+self.timesteps)].astype(np.float32))\n",
    "        }"
   ]
  },
  {
   "cell_type": "code",
   "execution_count": 209,
   "metadata": {},
   "outputs": [],
   "source": [
    "lts = LatentTimeSeries(cbm)"
   ]
  },
  {
   "cell_type": "code",
   "execution_count": 224,
   "metadata": {},
   "outputs": [],
   "source": [
    "class LatentPrediction(nn.Module):\n",
    "    def __init__(self):\n",
    "        super().__init__()\n",
    "        self.encoder = nn.Linear(2, 1, bias=False)\n",
    "        self.predictor = nn.Linear(1, 5, bias=False)\n",
    "\n",
    "    def forward(self, x):\n",
    "        latent = self.encoder(x)\n",
    "        prediction = self.predictor(latent)\n",
    "        return prediction"
   ]
  },
  {
   "cell_type": "code",
   "execution_count": 225,
   "metadata": {},
   "outputs": [],
   "source": [
    "lp = LatentPrediction()"
   ]
  },
  {
   "cell_type": "code",
   "execution_count": 226,
   "metadata": {},
   "outputs": [],
   "source": [
    "optimizer = optim.SGD(lp.parameters(), lr=0.01)"
   ]
  },
  {
   "cell_type": "code",
   "execution_count": 229,
   "metadata": {},
   "outputs": [],
   "source": [
    "for epoch in range(10):\n",
    "    for i, data in enumerate(lts):\n",
    "        if i>=len(tscbd): break\n",
    "        optimizer.zero_grad()\n",
    "        prediction = lp(data['current_value'])\n",
    "        loss = criterion(prediction, data['future_latent_values'].transpose(0, 1))\n",
    "        loss.backward()\n",
    "        optimizer.step()"
   ]
  },
  {
   "cell_type": "code",
   "execution_count": 230,
   "metadata": {},
   "outputs": [
    {
     "data": {
      "text/plain": [
       "[Parameter containing:\n",
       " tensor([[-1.2120, -1.1849]], requires_grad=True), Parameter containing:\n",
       " tensor([[-0.8023],\n",
       "         [-0.7269],\n",
       "         [-0.6721],\n",
       "         [-0.6310],\n",
       "         [-0.5958]], requires_grad=True)]"
      ]
     },
     "execution_count": 230,
     "metadata": {},
     "output_type": "execute_result"
    }
   ],
   "source": [
    "list(lp.parameters())"
   ]
  },
  {
   "cell_type": "markdown",
   "metadata": {},
   "source": [
    "Except for the one degree of freedom, this looks pretty good."
   ]
  },
  {
   "cell_type": "markdown",
   "metadata": {},
   "source": [
    "What happens with a smarter optimizer?"
   ]
  },
  {
   "cell_type": "code",
   "execution_count": 233,
   "metadata": {},
   "outputs": [],
   "source": [
    "lp = LatentPrediction()"
   ]
  },
  {
   "cell_type": "code",
   "execution_count": 234,
   "metadata": {},
   "outputs": [],
   "source": [
    "optimizer = optim.Adam(lp.parameters())"
   ]
  },
  {
   "cell_type": "code",
   "execution_count": 237,
   "metadata": {},
   "outputs": [
    {
     "name": "stderr",
     "output_type": "stream",
     "text": [
      "100%|██████████| 10/10 [06:26<00:00, 38.13s/it]\n"
     ]
    }
   ],
   "source": [
    "for epoch in tqdm(range(10)):\n",
    "    for i, data in enumerate(lts):\n",
    "        if i>=len(tscbd): break\n",
    "        optimizer.zero_grad()\n",
    "        prediction = lp(data['current_value'])\n",
    "        loss = criterion(prediction, data['future_latent_values'].transpose(0, 1))\n",
    "        loss.backward()\n",
    "        optimizer.step()"
   ]
  },
  {
   "cell_type": "code",
   "execution_count": 239,
   "metadata": {},
   "outputs": [
    {
     "data": {
      "text/plain": [
       "[Parameter containing:\n",
       " tensor([[-0.9485, -0.9470]], requires_grad=True), Parameter containing:\n",
       " tensor([[-0.9578],\n",
       "         [-0.8552],\n",
       "         [-0.7686],\n",
       "         [-0.6976],\n",
       "         [-0.6323]], requires_grad=True)]"
      ]
     },
     "execution_count": 239,
     "metadata": {},
     "output_type": "execute_result"
    }
   ],
   "source": [
    "list(lp.parameters())"
   ]
  },
  {
   "cell_type": "markdown",
   "metadata": {},
   "source": [
    "This looks remarkably good!"
   ]
  },
  {
   "cell_type": "markdown",
   "metadata": {},
   "source": [
    "## Predicting future input"
   ]
  },
  {
   "cell_type": "code",
   "execution_count": 283,
   "metadata": {},
   "outputs": [],
   "source": [
    "class BasicPredictor(nn.Module):\n",
    "    def __init__(self):\n",
    "        super().__init__()\n",
    "        self.encoder = nn.Linear(2, 1, bias=False)\n",
    "        self.predictor = nn.Linear(1, 5, bias=False)\n",
    "        self.decoder = nn.Conv1d(1, 2, 1, bias=False)\n",
    "\n",
    "    def forward(self, x):\n",
    "        code = self.encoder(x['current_value'])\n",
    "        prediction = self.predictor(code)\n",
    "        decoded = self.decoder(prediction).transpose(1, 2)\n",
    "        return decoded"
   ]
  },
  {
   "cell_type": "code",
   "execution_count": 284,
   "metadata": {},
   "outputs": [],
   "source": [
    "class TimeSeries(torch.utils.data.Dataset):\n",
    "    def __init__(self, cbm, timesteps=5):\n",
    "        super().__init__()\n",
    "        self.cbm = cbm\n",
    "        self.timesteps = timesteps\n",
    "\n",
    "    def __len__(self):\n",
    "        return len(self.cbm.atoms[0].values)-self.timesteps\n",
    "\n",
    "    def __getitem__(self, idx):\n",
    "        arr = np.zeros(shape=(1, 1, 2))\n",
    "        arr[0, 0, self.cbm.atoms[0].locations[idx]] = self.cbm.atoms[0].values[idx]\n",
    "        fut_arr = np.zeros(shape=(1, self.timesteps, 2))\n",
    "        for t in range(self.timesteps):\n",
    "            fut_arr[0, t, self.cbm.atoms[0].locations[idx+t]] = self.cbm.atoms[0].values[idx+t]\n",
    "        return {\n",
    "            'current_value': torch.from_numpy(arr.astype(np.float32)),\n",
    "            'future_values': torch.from_numpy(fut_arr.astype(np.float32))\n",
    "        }"
   ]
  },
  {
   "cell_type": "code",
   "execution_count": 285,
   "metadata": {},
   "outputs": [],
   "source": [
    "ts = TimeSeries(cbm)"
   ]
  },
  {
   "cell_type": "code",
   "execution_count": 286,
   "metadata": {},
   "outputs": [
    {
     "data": {
      "text/plain": [
       "{'current_value': tensor([[[1., 0.]]]), 'future_values': tensor([[[1., 0.],\n",
       "          [1., 0.],\n",
       "          [0., 1.],\n",
       "          [1., 0.],\n",
       "          [0., 1.]]])}"
      ]
     },
     "execution_count": 286,
     "metadata": {},
     "output_type": "execute_result"
    }
   ],
   "source": [
    "ts[0]"
   ]
  },
  {
   "cell_type": "code",
   "execution_count": 287,
   "metadata": {},
   "outputs": [],
   "source": [
    "bp = BasicPredictor()"
   ]
  },
  {
   "cell_type": "code",
   "execution_count": 288,
   "metadata": {},
   "outputs": [],
   "source": [
    "code = bp.encoder(ts[0]['current_value'])"
   ]
  },
  {
   "cell_type": "code",
   "execution_count": 289,
   "metadata": {},
   "outputs": [],
   "source": [
    "prediction = bp.predictor(code)"
   ]
  },
  {
   "cell_type": "code",
   "execution_count": 291,
   "metadata": {},
   "outputs": [
    {
     "data": {
      "text/plain": [
       "tensor([[[-0.0020, -0.0116],\n",
       "         [-0.0163, -0.0961],\n",
       "         [-0.0137, -0.0805],\n",
       "         [-0.0135, -0.0793],\n",
       "         [ 0.0234,  0.1374]]], grad_fn=<TransposeBackward0>)"
      ]
     },
     "execution_count": 291,
     "metadata": {},
     "output_type": "execute_result"
    }
   ],
   "source": [
    "bp.decoder(prediction.reshape(1,1,5)).transpose(1, 2)"
   ]
  },
  {
   "cell_type": "code",
   "execution_count": 292,
   "metadata": {},
   "outputs": [],
   "source": [
    "optimizer = optim.Adam(bp.parameters())"
   ]
  },
  {
   "cell_type": "code",
   "execution_count": 294,
   "metadata": {},
   "outputs": [
    {
     "name": "stderr",
     "output_type": "stream",
     "text": [
      " 70%|███████   | 7/10 [22:44<09:49, 196.45s/it]"
     ]
    },
    {
     "ename": "KeyboardInterrupt",
     "evalue": "",
     "output_type": "error",
     "traceback": [
      "\u001b[0;31m---------------------------------------------------------------------------\u001b[0m",
      "\u001b[0;31mKeyboardInterrupt\u001b[0m                         Traceback (most recent call last)",
      "\u001b[0;32m<ipython-input-294-fa9ba5dbe3bf>\u001b[0m in \u001b[0;36m<module>\u001b[0;34m\u001b[0m\n\u001b[1;32m      5\u001b[0m         \u001b[0mprediction\u001b[0m \u001b[0;34m=\u001b[0m \u001b[0mbp\u001b[0m\u001b[0;34m(\u001b[0m\u001b[0mdata\u001b[0m\u001b[0;34m)\u001b[0m\u001b[0;34m\u001b[0m\u001b[0;34m\u001b[0m\u001b[0m\n\u001b[1;32m      6\u001b[0m         \u001b[0mloss\u001b[0m \u001b[0;34m=\u001b[0m \u001b[0mcriterion\u001b[0m\u001b[0;34m(\u001b[0m\u001b[0mprediction\u001b[0m\u001b[0;34m,\u001b[0m \u001b[0mdata\u001b[0m\u001b[0;34m[\u001b[0m\u001b[0;34m'future_values'\u001b[0m\u001b[0;34m]\u001b[0m\u001b[0;34m)\u001b[0m\u001b[0;34m\u001b[0m\u001b[0;34m\u001b[0m\u001b[0m\n\u001b[0;32m----> 7\u001b[0;31m         \u001b[0mloss\u001b[0m\u001b[0;34m.\u001b[0m\u001b[0mbackward\u001b[0m\u001b[0;34m(\u001b[0m\u001b[0;34m)\u001b[0m\u001b[0;34m\u001b[0m\u001b[0;34m\u001b[0m\u001b[0m\n\u001b[0m\u001b[1;32m      8\u001b[0m         \u001b[0moptimizer\u001b[0m\u001b[0;34m.\u001b[0m\u001b[0mstep\u001b[0m\u001b[0;34m(\u001b[0m\u001b[0;34m)\u001b[0m\u001b[0;34m\u001b[0m\u001b[0;34m\u001b[0m\u001b[0m\n",
      "\u001b[0;32m~/anaconda3/lib/python3.7/site-packages/torch/tensor.py\u001b[0m in \u001b[0;36mbackward\u001b[0;34m(self, gradient, retain_graph, create_graph)\u001b[0m\n\u001b[1;32m    148\u001b[0m                 \u001b[0mproducts\u001b[0m\u001b[0;34m.\u001b[0m \u001b[0mDefaults\u001b[0m \u001b[0mto\u001b[0m\u001b[0;31m \u001b[0m\u001b[0;31m`\u001b[0m\u001b[0;31m`\u001b[0m\u001b[0;32mFalse\u001b[0m\u001b[0;31m`\u001b[0m\u001b[0;31m`\u001b[0m\u001b[0;34m.\u001b[0m\u001b[0;34m\u001b[0m\u001b[0;34m\u001b[0m\u001b[0m\n\u001b[1;32m    149\u001b[0m         \"\"\"\n\u001b[0;32m--> 150\u001b[0;31m         \u001b[0mtorch\u001b[0m\u001b[0;34m.\u001b[0m\u001b[0mautograd\u001b[0m\u001b[0;34m.\u001b[0m\u001b[0mbackward\u001b[0m\u001b[0;34m(\u001b[0m\u001b[0mself\u001b[0m\u001b[0;34m,\u001b[0m \u001b[0mgradient\u001b[0m\u001b[0;34m,\u001b[0m \u001b[0mretain_graph\u001b[0m\u001b[0;34m,\u001b[0m \u001b[0mcreate_graph\u001b[0m\u001b[0;34m)\u001b[0m\u001b[0;34m\u001b[0m\u001b[0;34m\u001b[0m\u001b[0m\n\u001b[0m\u001b[1;32m    151\u001b[0m \u001b[0;34m\u001b[0m\u001b[0m\n\u001b[1;32m    152\u001b[0m     \u001b[0;32mdef\u001b[0m \u001b[0mregister_hook\u001b[0m\u001b[0;34m(\u001b[0m\u001b[0mself\u001b[0m\u001b[0;34m,\u001b[0m \u001b[0mhook\u001b[0m\u001b[0;34m)\u001b[0m\u001b[0;34m:\u001b[0m\u001b[0;34m\u001b[0m\u001b[0;34m\u001b[0m\u001b[0m\n",
      "\u001b[0;32m~/anaconda3/lib/python3.7/site-packages/torch/autograd/__init__.py\u001b[0m in \u001b[0;36mbackward\u001b[0;34m(tensors, grad_tensors, retain_graph, create_graph, grad_variables)\u001b[0m\n\u001b[1;32m     97\u001b[0m     Variable._execution_engine.run_backward(\n\u001b[1;32m     98\u001b[0m         \u001b[0mtensors\u001b[0m\u001b[0;34m,\u001b[0m \u001b[0mgrad_tensors\u001b[0m\u001b[0;34m,\u001b[0m \u001b[0mretain_graph\u001b[0m\u001b[0;34m,\u001b[0m \u001b[0mcreate_graph\u001b[0m\u001b[0;34m,\u001b[0m\u001b[0;34m\u001b[0m\u001b[0;34m\u001b[0m\u001b[0m\n\u001b[0;32m---> 99\u001b[0;31m         allow_unreachable=True)  # allow_unreachable flag\n\u001b[0m\u001b[1;32m    100\u001b[0m \u001b[0;34m\u001b[0m\u001b[0m\n\u001b[1;32m    101\u001b[0m \u001b[0;34m\u001b[0m\u001b[0m\n",
      "\u001b[0;31mKeyboardInterrupt\u001b[0m: "
     ]
    }
   ],
   "source": [
    "for epoch in tqdm(range(10)):\n",
    "    for i, data in enumerate(ts):\n",
    "        if i>=len(ts): break\n",
    "        optimizer.zero_grad()\n",
    "        prediction = bp(data)\n",
    "        loss = criterion(prediction, data['future_values'])\n",
    "        loss.backward()\n",
    "        optimizer.step()"
   ]
  },
  {
   "cell_type": "code",
   "execution_count": 295,
   "metadata": {},
   "outputs": [
    {
     "data": {
      "text/plain": [
       "[Parameter containing:\n",
       " tensor([[-0.8023, -0.7992]], requires_grad=True), Parameter containing:\n",
       " tensor([[-0.7629],\n",
       "         [-0.6909],\n",
       "         [-0.6102],\n",
       "         [-0.5326],\n",
       "         [-0.4685]], requires_grad=True), Parameter containing:\n",
       " tensor([[[0.8007]],\n",
       " \n",
       "         [[0.8227]]], requires_grad=True)]"
      ]
     },
     "execution_count": 295,
     "metadata": {},
     "output_type": "execute_result"
    }
   ],
   "source": [
    "list(bp.parameters())"
   ]
  },
  {
   "cell_type": "markdown",
   "metadata": {},
   "source": [
    "## Can we apply the same encoder faithfully to several instances?"
   ]
  },
  {
   "cell_type": "code",
   "execution_count": 334,
   "metadata": {},
   "outputs": [],
   "source": [
    "class SeveralTimes(nn.Module):\n",
    "    def __init__(self):\n",
    "        super().__init__()\n",
    "        self.encoder = nn.Linear(1, 1, bias=False)\n",
    "\n",
    "    def forward(self, x):\n",
    "        return self.encoder(x)"
   ]
  },
  {
   "cell_type": "code",
   "execution_count": 335,
   "metadata": {},
   "outputs": [],
   "source": [
    "st = SeveralTimes()"
   ]
  },
  {
   "cell_type": "code",
   "execution_count": 336,
   "metadata": {},
   "outputs": [],
   "source": [
    "optimizer = optim.SGD(st.parameters(), lr=0.01)"
   ]
  },
  {
   "cell_type": "code",
   "execution_count": 337,
   "metadata": {},
   "outputs": [],
   "source": [
    "pred1 = st(torch.from_numpy(np.array([[1]]).astype(np.float32)))"
   ]
  },
  {
   "cell_type": "code",
   "execution_count": 338,
   "metadata": {},
   "outputs": [
    {
     "data": {
      "text/plain": [
       "tensor([[0.8733]], grad_fn=<MmBackward>)"
      ]
     },
     "execution_count": 338,
     "metadata": {},
     "output_type": "execute_result"
    }
   ],
   "source": [
    "pred1"
   ]
  },
  {
   "cell_type": "code",
   "execution_count": 343,
   "metadata": {},
   "outputs": [],
   "source": [
    "for __ in range(100):\n",
    "    optimizer.zero_grad()\n",
    "    pred1 = st(torch.from_numpy(np.array([[1]]).astype(np.float32)))\n",
    "    pred2 = st(torch.from_numpy(np.array([[-1]]).astype(np.float32)))\n",
    "    loss = (pred1-1)**2+pred2**2\n",
    "    loss.backward()\n",
    "    optimizer.step()"
   ]
  },
  {
   "cell_type": "code",
   "execution_count": 344,
   "metadata": {},
   "outputs": [
    {
     "data": {
      "text/plain": [
       "[Parameter containing:\n",
       " tensor([[0.5082]], requires_grad=True)]"
      ]
     },
     "execution_count": 344,
     "metadata": {},
     "output_type": "execute_result"
    }
   ],
   "source": [
    "list(st.parameters())"
   ]
  },
  {
   "cell_type": "markdown",
   "metadata": {},
   "source": [
    "## Move to the latents"
   ]
  },
  {
   "cell_type": "code",
   "execution_count": 357,
   "metadata": {},
   "outputs": [],
   "source": [
    "class ContrastiveTimeSeries(torch.utils.data.Dataset):\n",
    "    def __init__(self, cbm, timesteps=5, n_contrasts=10):\n",
    "        super().__init__()\n",
    "        self.cbm = cbm\n",
    "        self.timesteps = timesteps\n",
    "        self.n_contrasts = n_contrasts\n",
    "\n",
    "    def __len__(self):\n",
    "        return len(self.cbm.atoms[0].values)-self.timesteps\n",
    "\n",
    "    def __getitem__(self, idx):\n",
    "        arr = np.zeros(shape=(1, 1, 2))\n",
    "        arr[0, 0, self.cbm.atoms[0].locations[idx]] = self.cbm.atoms[0].values[idx]\n",
    "        fut_arr = np.zeros(shape=(1, self.timesteps, 2))\n",
    "        con_arr = np.zeros(shape=(self.n_contrasts, self.timesteps, 2))\n",
    "        con_idx = np.random.randint(len(self.cbm.atoms[0].values), size=self.n_contrasts)\n",
    "        for t in range(self.timesteps):\n",
    "            fut_arr[0, t, self.cbm.atoms[0].locations[idx+t]] = self.cbm.atoms[0].values[idx+t]\n",
    "        for t in range(self.timesteps):\n",
    "            for i, c_idx in enumerate(con_idx):\n",
    "                con_arr[i, t, self.cbm.atoms[0].locations[c_idx]] = self.cbm.atoms[0].values[c_idx]\n",
    "        return {\n",
    "            'current_value': torch.from_numpy(arr.astype(np.float32)),\n",
    "            'future_values': torch.from_numpy(fut_arr.astype(np.float32)),\n",
    "            'contrastive_values': torch.from_numpy(con_arr.astype(np.float32))\n",
    "        }"
   ]
  },
  {
   "cell_type": "code",
   "execution_count": 358,
   "metadata": {},
   "outputs": [],
   "source": [
    "cts = ContrastiveTimeSeries(cbm)"
   ]
  },
  {
   "cell_type": "code",
   "execution_count": 368,
   "metadata": {},
   "outputs": [],
   "source": [
    "class ContrastiveEncoder(nn.Module):\n",
    "    def __init__(self):\n",
    "        super().__init__()\n",
    "        self.encoder = nn.Linear(2, 1, bias=False)\n",
    "        self.predictor = nn.Linear(1, 5, bias=False)\n",
    "\n",
    "    def forward(self, x):\n",
    "        current_code = self.encoder(x['current_value'])\n",
    "        future_code = self.encoder(x['future_values'])\n",
    "        contrastive_code = self.encoder(x['contrastive_values'])\n",
    "        predicted_code = self.predictor(current_code).reshape(1, 5, 1)\n",
    "        dct = {\n",
    "            'future_code': future_code,\n",
    "            'contrastive_code': contrastive_code,\n",
    "            'predicted_code': predicted_code\n",
    "        }\n",
    "        return dct"
   ]
  },
  {
   "cell_type": "code",
   "execution_count": 369,
   "metadata": {},
   "outputs": [],
   "source": [
    "ce = ContrastiveEncoder()"
   ]
  },
  {
   "cell_type": "code",
   "execution_count": 414,
   "metadata": {},
   "outputs": [],
   "source": [
    "def criterion(values):\n",
    "    correct_category = torch.sum(\n",
    "        values['future_code'] * values['predicted_code'],\n",
    "        axis=2\n",
    "    )\n",
    "    contrast_category = torch.sum(\n",
    "        values['predicted_code'] * values['contrastive_code'],\n",
    "        axis=2\n",
    "    )\n",
    "    loss_per_timestep = -correct_category + \\\n",
    "        torch.log(torch.exp(correct_category).sum(axis=0) + \\\n",
    "                  torch.exp(contrast_category).sum(axis=0))\n",
    "    loss = loss_per_timestep.sum()\n",
    "    return loss"
   ]
  },
  {
   "cell_type": "code",
   "execution_count": 413,
   "metadata": {},
   "outputs": [],
   "source": [
    "optimizer = optim.Adam(ce.parameters())"
   ]
  },
  {
   "cell_type": "code",
   "execution_count": 416,
   "metadata": {},
   "outputs": [
    {
     "name": "stderr",
     "output_type": "stream",
     "text": [
      "\n",
      "  0%|          | 0/5 [00:00<?, ?it/s]\u001b[A\n",
      " 20%|██        | 1/5 [01:43<06:55, 103.99s/it]\u001b[A\n",
      " 40%|████      | 2/5 [03:25<05:09, 103.17s/it]\u001b[A\n",
      " 60%|██████    | 3/5 [05:13<03:29, 104.63s/it]\u001b[A\n",
      " 80%|████████  | 4/5 [07:21<01:51, 111.65s/it]\u001b[A\n",
      "100%|██████████| 5/5 [09:26<00:00, 115.64s/it]\u001b[A\n",
      "\u001b[A"
     ]
    }
   ],
   "source": [
    "for epoch in tqdm(range(5)):\n",
    "    for i, data in enumerate(cts):\n",
    "        if i>=len(cts): break\n",
    "        optimizer.zero_grad()\n",
    "        code = ce(data)\n",
    "        loss = criterion(code)\n",
    "        loss.backward()\n",
    "        optimizer.step()"
   ]
  },
  {
   "cell_type": "code",
   "execution_count": 417,
   "metadata": {},
   "outputs": [
    {
     "data": {
      "text/plain": [
       "[Parameter containing:\n",
       " tensor([[0.9045, 0.9687]], requires_grad=True), Parameter containing:\n",
       " tensor([[4.5401],\n",
       "         [1.6955],\n",
       "         [1.2917],\n",
       "         [1.0597],\n",
       "         [0.9050]], requires_grad=True)]"
      ]
     },
     "execution_count": 417,
     "metadata": {},
     "output_type": "execute_result"
    }
   ],
   "source": [
    "list(ce.parameters())"
   ]
  },
  {
   "cell_type": "code",
   "execution_count": 419,
   "metadata": {},
   "outputs": [
    {
     "name": "stderr",
     "output_type": "stream",
     "text": [
      "\n",
      "  0%|          | 0/5 [00:00<?, ?it/s]\u001b[A\n",
      " 20%|██        | 1/5 [01:43<06:52, 103.02s/it]\u001b[A\n",
      " 40%|████      | 2/5 [03:28<05:11, 103.70s/it]\u001b[A\n",
      " 60%|██████    | 3/5 [05:08<03:25, 102.74s/it]\u001b[A\n",
      " 80%|████████  | 4/5 [06:53<01:43, 103.41s/it]\u001b[A\n",
      "100%|██████████| 5/5 [08:45<00:00, 105.86s/it]\u001b[A\n",
      "\u001b[A"
     ]
    }
   ],
   "source": [
    "for epoch in tqdm(range(5)):\n",
    "    for i, data in enumerate(cts):\n",
    "        if i>=len(cts): break\n",
    "        optimizer.zero_grad()\n",
    "        code = ce(data)\n",
    "        loss = criterion(code)\n",
    "        loss.backward()\n",
    "        optimizer.step()"
   ]
  },
  {
   "cell_type": "code",
   "execution_count": 420,
   "metadata": {},
   "outputs": [
    {
     "data": {
      "text/plain": [
       "[Parameter containing:\n",
       " tensor([[0.8741, 0.9153]], requires_grad=True), Parameter containing:\n",
       " tensor([[4.9024],\n",
       "         [1.8503],\n",
       "         [1.4086],\n",
       "         [1.1540],\n",
       "         [0.9822]], requires_grad=True)]"
      ]
     },
     "execution_count": 420,
     "metadata": {},
     "output_type": "execute_result"
    }
   ],
   "source": [
    "list(ce.parameters())"
   ]
  },
  {
   "cell_type": "code",
   "execution_count": 425,
   "metadata": {},
   "outputs": [
    {
     "data": {
      "image/png": "[encoded data removed]",
      "text/plain": [
       "<Figure size 640x480 with 1 Axes>"
      ]
     },
     "metadata": {},
     "output_type": "display_data"
    },
    {
     "data": {
      "text/plain": [
       "<ggplot: (8748554906725)>"
      ]
     },
     "execution_count": 425,
     "metadata": {},
     "output_type": "execute_result"
    }
   ],
   "source": [
    "(gg.ggplot(lazytools.array_to_dataframe(list(ce.parameters())[1].detach().numpy())) + \n",
    " gg.geom_line(gg.aes(x = 'dim0', y = 'array'))\n",
    ")"
   ]
  },
  {
   "cell_type": "markdown",
   "metadata": {},
   "source": [
    "## Scaling up"
   ]
  },
  {
   "cell_type": "markdown",
   "metadata": {},
   "source": [
    "### 1 ${\\rm CBM}(20,0.05)$"
   ]
  },
  {
   "cell_type": "code",
   "execution_count": 434,
   "metadata": {},
   "outputs": [],
   "source": [
    "class ContrastiveTimeSeries(torch.utils.data.Dataset):\n",
    "    def __init__(self, cbm, timesteps=5, n_contrasts=10):\n",
    "        super().__init__()\n",
    "        self.cbm = cbm\n",
    "        self.timesteps = timesteps\n",
    "        self.n_contrasts = n_contrasts\n",
    "\n",
    "    def __len__(self):\n",
    "        return len(self.cbm.atoms[0].values)-self.timesteps\n",
    "\n",
    "    def __getitem__(self, idx):\n",
    "        arr = np.zeros(shape=(1, 1, 20))\n",
    "        arr[0, 0, self.cbm.atoms[0].locations[idx]] = self.cbm.atoms[0].values[idx]\n",
    "        fut_arr = np.zeros(shape=(1, self.timesteps, 20))\n",
    "        con_arr = np.zeros(shape=(self.n_contrasts, self.timesteps, 20))\n",
    "        con_idx = np.random.randint(len(self.cbm.atoms[0].values), size=self.n_contrasts)\n",
    "        for t in range(self.timesteps):\n",
    "            fut_arr[0, t, self.cbm.atoms[0].locations[idx+t]] = self.cbm.atoms[0].values[idx+t]\n",
    "        for t in range(self.timesteps):\n",
    "            for i, c_idx in enumerate(con_idx):\n",
    "                con_arr[i, t, self.cbm.atoms[0].locations[c_idx]] = self.cbm.atoms[0].values[c_idx]\n",
    "        return {\n",
    "            'current_value': torch.from_numpy(arr.astype(np.float32)),\n",
    "            'future_values': torch.from_numpy(fut_arr.astype(np.float32)),\n",
    "            'contrastive_values': torch.from_numpy(con_arr.astype(np.float32))\n",
    "        }\n",
    "\n",
    "class ContrastiveEncoder(nn.Module):\n",
    "    def __init__(self):\n",
    "        super().__init__()\n",
    "        self.encoder = nn.Linear(20, 1, bias=False)\n",
    "        self.predictor = nn.Linear(1, 5, bias=False)\n",
    "\n",
    "    def forward(self, x):\n",
    "        current_code = self.encoder(x['current_value'])\n",
    "        future_code = self.encoder(x['future_values'])\n",
    "        contrastive_code = self.encoder(x['contrastive_values'])\n",
    "        predicted_code = self.predictor(current_code).reshape(1, 5, 1)\n",
    "        dct = {\n",
    "            'future_code': future_code,\n",
    "            'contrastive_code': contrastive_code,\n",
    "            'predicted_code': predicted_code\n",
    "        }\n",
    "        return dct"
   ]
  },
  {
   "cell_type": "code",
   "execution_count": 444,
   "metadata": {},
   "outputs": [
    {
     "name": "stderr",
     "output_type": "stream",
     "text": [
      "\n",
      "\n",
      "  0%|          | 0/5 [00:00<?, ?it/s]\u001b[A\u001b[A\n",
      "\n",
      " 20%|██        | 1/5 [00:46<03:07, 46.84s/it]\u001b[A\u001b[A\n",
      "\n",
      " 40%|████      | 2/5 [01:39<02:25, 48.62s/it]\u001b[A\u001b[A\n",
      "\n",
      " 60%|██████    | 3/5 [02:29<01:38, 49.12s/it]\u001b[A\u001b[A\n",
      "\n",
      " 80%|████████  | 4/5 [03:18<00:48, 48.95s/it]\u001b[A\u001b[A\n",
      "\n",
      "100%|██████████| 5/5 [04:05<00:00, 48.35s/it]\u001b[A\u001b[A\n",
      "\n",
      "\u001b[A\u001b[A"
     ]
    }
   ],
   "source": [
    "cbm = lettertask.data.CompositionalBinaryModel(\n",
    "    width=[20],\n",
    "    change_probability=[0.05],\n",
    "    samples=50000,\n",
    "    seed=1001\n",
    ")\n",
    "cts_1 = ContrastiveTimeSeries(cbm)\n",
    "ce_1 = ContrastiveEncoder()\n",
    "optimizer = optim.Adam(ce_1.parameters())\n",
    "for epoch in tqdm(range(5)):\n",
    "    for i, data in enumerate(cts_1):\n",
    "        if not i>=len(cts_1):\n",
    "            optimizer.zero_grad()\n",
    "            code = ce_1(data)\n",
    "            loss = criterion(code)\n",
    "            loss.backward()\n",
    "            optimizer.step()"
   ]
  },
  {
   "cell_type": "code",
   "execution_count": 445,
   "metadata": {},
   "outputs": [
    {
     "data": {
      "text/plain": [
       "[Parameter containing:\n",
       " tensor([[-0.8250, -0.8240,  0.8168,  0.9026, -0.8347,  0.8438,  0.8575, -0.8682,\n",
       "          -0.7818,  0.8528, -0.8190,  0.0110,  0.8510,  0.8301,  0.7982, -0.8431,\n",
       "           0.8483,  0.8636,  0.0286,  0.8959]], requires_grad=True),\n",
       " Parameter containing:\n",
       " tensor([[5.9478],\n",
       "         [0.1140],\n",
       "         [0.1241],\n",
       "         [0.0489],\n",
       "         [0.0824]], requires_grad=True)]"
      ]
     },
     "execution_count": 445,
     "metadata": {},
     "output_type": "execute_result"
    }
   ],
   "source": [
    "list(ce_1.parameters())"
   ]
  },
  {
   "cell_type": "markdown",
   "metadata": {},
   "source": [
    "### 2 $CBM(20, 0.2)$"
   ]
  },
  {
   "cell_type": "code",
   "execution_count": 446,
   "metadata": {},
   "outputs": [
    {
     "name": "stderr",
     "output_type": "stream",
     "text": [
      "\n",
      "\n",
      "  0%|          | 0/5 [00:00<?, ?it/s]\u001b[A\u001b[A\n",
      "\n",
      " 20%|██        | 1/5 [00:48<03:15, 48.93s/it]\u001b[A\u001b[A\n",
      "\n",
      " 40%|████      | 2/5 [01:35<02:24, 48.29s/it]\u001b[A\u001b[A\n",
      "\n",
      " 60%|██████    | 3/5 [02:21<01:34, 47.41s/it]\u001b[A\u001b[A\n",
      "\n",
      " 80%|████████  | 4/5 [03:08<00:47, 47.45s/it]\u001b[A\u001b[A\n",
      "\n",
      "100%|██████████| 5/5 [04:02<00:00, 49.48s/it]\u001b[A\u001b[A\n",
      "\n",
      "\u001b[A\u001b[A"
     ]
    }
   ],
   "source": [
    "cbm = lettertask.data.CompositionalBinaryModel(\n",
    "    width=[20],\n",
    "    change_probability=[0.2],\n",
    "    samples=50000,\n",
    "    seed=1001\n",
    ")\n",
    "cts_2 = ContrastiveTimeSeries(cbm)\n",
    "ce_2 = ContrastiveEncoder()\n",
    "optimizer = optim.Adam(ce_2.parameters())\n",
    "for epoch in tqdm(range(5)):\n",
    "    for i, data in enumerate(cts_2):\n",
    "        if not i>=len(cts_2):\n",
    "            optimizer.zero_grad()\n",
    "            code = ce_2(data)\n",
    "            loss = criterion(code)\n",
    "            loss.backward()\n",
    "            optimizer.step()"
   ]
  },
  {
   "cell_type": "code",
   "execution_count": 447,
   "metadata": {},
   "outputs": [
    {
     "data": {
      "text/plain": [
       "[Parameter containing:\n",
       " tensor([[ 0.8510,  0.8656,  0.8682, -0.8941,  0.0086, -0.8894, -0.8768,  0.8949,\n",
       "          -0.8219, -0.8776,  0.8535,  0.8585, -0.8531,  0.0019, -0.8253, -0.8776,\n",
       "          -0.0060,  0.8688,  0.0152,  0.8900]], requires_grad=True),\n",
       " Parameter containing:\n",
       " tensor([[ 6.8710],\n",
       "         [ 0.0183],\n",
       "         [-0.0285],\n",
       "         [ 0.0083],\n",
       "         [-0.0089]], requires_grad=True)]"
      ]
     },
     "execution_count": 447,
     "metadata": {},
     "output_type": "execute_result"
    }
   ],
   "source": [
    "list(ce_2.parameters())"
   ]
  },
  {
   "cell_type": "markdown",
   "metadata": {},
   "source": [
    "### 3 CBM((1,1),(0.05, 0.5))"
   ]
  },
  {
   "cell_type": "code",
   "execution_count": 448,
   "metadata": {},
   "outputs": [],
   "source": [
    "class ContrastiveTimeSeries(torch.utils.data.Dataset):\n",
    "    def __init__(self, cbm, timesteps=5, n_contrasts=10):\n",
    "        super().__init__()\n",
    "        self.cbm = cbm\n",
    "        self.timesteps = timesteps\n",
    "        self.n_contrasts = n_contrasts\n",
    "\n",
    "    def __len__(self):\n",
    "        return len(self.cbm.atoms[0].values)-self.timesteps\n",
    "\n",
    "    def __getitem__(self, idx):\n",
    "        arr = np.zeros(shape=(1, 1, 2))\n",
    "        arr[0, 0, self.cbm.atoms[0].locations[idx]] = self.cbm.atoms[0].values[idx]\n",
    "        fut_arr = np.zeros(shape=(1, self.timesteps, 2))\n",
    "        con_arr = np.zeros(shape=(self.n_contrasts, self.timesteps, 2))\n",
    "        con_idx = np.random.randint(len(self.cbm.atoms[0].values), size=self.n_contrasts)\n",
    "        for t in range(self.timesteps):\n",
    "            fut_arr[0, t, self.cbm.atoms[0].locations[idx+t]] = self.cbm.atoms[0].values[idx+t]\n",
    "        for t in range(self.timesteps):\n",
    "            for i, c_idx in enumerate(con_idx):\n",
    "                con_arr[i, t, self.cbm.atoms[0].locations[c_idx]] = self.cbm.atoms[0].values[c_idx]\n",
    "        return {\n",
    "            'current_value': torch.from_numpy(arr.astype(np.float32)),\n",
    "            'future_values': torch.from_numpy(fut_arr.astype(np.float32)),\n",
    "            'contrastive_values': torch.from_numpy(con_arr.astype(np.float32))\n",
    "        }\n",
    "\n",
    "class ContrastiveEncoder(nn.Module):\n",
    "    def __init__(self):\n",
    "        super().__init__()\n",
    "        self.encoder = nn.Linear(2, 1, bias=False)\n",
    "        self.predictor = nn.Linear(1, 5, bias=False)\n",
    "\n",
    "    def forward(self, x):\n",
    "        current_code = self.encoder(x['current_value'])\n",
    "        future_code = self.encoder(x['future_values'])\n",
    "        contrastive_code = self.encoder(x['contrastive_values'])\n",
    "        predicted_code = self.predictor(current_code).reshape(1, 5, 1)\n",
    "        dct = {\n",
    "            'future_code': future_code,\n",
    "            'contrastive_code': contrastive_code,\n",
    "            'predicted_code': predicted_code\n",
    "        }\n",
    "        return dct"
   ]
  },
  {
   "cell_type": "code",
   "execution_count": 452,
   "metadata": {},
   "outputs": [
    {
     "name": "stderr",
     "output_type": "stream",
     "text": [
      "\n",
      "\n",
      "  0%|          | 0/10 [00:00<?, ?it/s]\u001b[A\u001b[A\n",
      "\n",
      " 10%|█         | 1/10 [00:08<01:20,  8.97s/it]\u001b[A\u001b[A\n",
      "\n",
      " 20%|██        | 2/10 [00:18<01:12,  9.01s/it]\u001b[A\u001b[A\n",
      "\n",
      " 30%|███       | 3/10 [00:26<01:02,  8.96s/it]\u001b[A\u001b[A\n",
      "\n",
      " 40%|████      | 4/10 [00:35<00:53,  8.96s/it]\u001b[A\u001b[A\n",
      "\n",
      " 50%|█████     | 5/10 [00:45<00:46,  9.27s/it]\u001b[A\u001b[A\n",
      "\n",
      " 60%|██████    | 6/10 [00:55<00:37,  9.28s/it]\u001b[A\u001b[A\n",
      "\n",
      " 70%|███████   | 7/10 [01:04<00:28,  9.35s/it]\u001b[A\u001b[A\n",
      "\n",
      " 80%|████████  | 8/10 [01:14<00:18,  9.35s/it]\u001b[A\u001b[A\n",
      "\n",
      " 90%|█████████ | 9/10 [01:23<00:09,  9.29s/it]\u001b[A\u001b[A\n",
      "\n",
      "100%|██████████| 10/10 [01:32<00:00,  9.41s/it]\u001b[A\u001b[A\n",
      "\n",
      "\u001b[A\u001b[A"
     ]
    }
   ],
   "source": [
    "cbm = lettertask.data.CompositionalBinaryModel(\n",
    "    width=[1, 1],\n",
    "    change_probability=[0.05, 0.5],\n",
    "    samples=10000,\n",
    "    seed=1001\n",
    ")\n",
    "cts_3 = ContrastiveTimeSeries(cbm)\n",
    "ce_3 = ContrastiveEncoder()\n",
    "optimizer = optim.Adam(ce_3.parameters())\n",
    "for epoch in tqdm(range(10)):\n",
    "    for i, data in enumerate(cts_3):\n",
    "        if not i>=len(cts_3):\n",
    "            optimizer.zero_grad()\n",
    "            code = ce_3(data)\n",
    "            loss = criterion(code)\n",
    "            loss.backward()\n",
    "            optimizer.step()"
   ]
  },
  {
   "cell_type": "code",
   "execution_count": 451,
   "metadata": {},
   "outputs": [
    {
     "data": {
      "text/plain": [
       "[Parameter containing:\n",
       " tensor([[ 0.9722, -0.3759]], requires_grad=True), Parameter containing:\n",
       " tensor([[10.8543],\n",
       "         [ 1.6101],\n",
       "         [ 1.2256],\n",
       "         [ 1.0053],\n",
       "         [ 0.8537]], requires_grad=True)]"
      ]
     },
     "execution_count": 451,
     "metadata": {},
     "output_type": "execute_result"
    }
   ],
   "source": [
    "list(ce_3.parameters())"
   ]
  },
  {
   "cell_type": "markdown",
   "metadata": {},
   "source": [
    "## Next steps"
   ]
  },
  {
   "cell_type": "markdown",
   "metadata": {},
   "source": [
    "We can use the compositional binary model to map out a couple of dimensions, both with respect to the data and with respect to the optimization undertaken. The dependent variables of interest are:\n",
    "\n",
    "- computing time\n",
    "- performance w.r.t. the loss\n",
    "- performance as an angle to optimal latent feature recognition\n",
    "\n",
    "The variables that influence these dependent variables are:\n",
    "\n",
    "- sampling size\n",
    "- optimizer\n",
    "- CBM parameters\n",
    "- number of epochs\n",
    "- other aspects of the optimization paradigm\n",
    "\n",
    "The algorithm that are (essentially) a bound from above are $L(t)\\mapsto L(t+\\tau)$ and $X(t)\\mapsto L(t+\\tau)$. The algorithm that should provide a baseline is $X(t)\\mapsto X(t+\\tau)$."
   ]
  },
  {
   "cell_type": "markdown",
   "metadata": {},
   "source": [
    "## Early API"
   ]
  },
  {
   "cell_type": "markdown",
   "metadata": {},
   "source": [
    "For this purpose, I have written a simple API providing the functionality we draw upon in this notebook:"
   ]
  },
  {
   "cell_type": "code",
   "execution_count": 2,
   "metadata": {},
   "outputs": [],
   "source": [
    "import patches"
   ]
  },
  {
   "cell_type": "code",
   "execution_count": 3,
   "metadata": {},
   "outputs": [],
   "source": [
    "cbm = lettertask.data.CompositionalBinaryModel(\n",
    "    width=[1, 1],\n",
    "    change_probability=[0.05, 0.5],\n",
    "    samples=10000,\n",
    "    seed=1001\n",
    ")"
   ]
  },
  {
   "cell_type": "code",
   "execution_count": 4,
   "metadata": {},
   "outputs": [],
   "source": [
    "cts = patches.data.Contrastive1DTimeSeries(data=cbm.to_array())"
   ]
  },
  {
   "cell_type": "code",
   "execution_count": 5,
   "metadata": {},
   "outputs": [],
   "source": [
    "ce = patches.networks.LinearScaffold(latent_features=1, data=cts)"
   ]
  },
  {
   "cell_type": "code",
   "execution_count": 8,
   "metadata": {},
   "outputs": [],
   "source": [
    "criterion = patches.losses.ContrastiveLoss(loss=nn.MSELoss())"
   ]
  },
  {
   "cell_type": "code",
   "execution_count": 11,
   "metadata": {},
   "outputs": [],
   "source": [
    "optimizer = optim.Adam(ce.parameters())"
   ]
  },
  {
   "cell_type": "code",
   "execution_count": 13,
   "metadata": {},
   "outputs": [
    {
     "name": "stderr",
     "output_type": "stream",
     "text": [
      "100%|██████████| 10/10 [03:18<00:00, 19.89s/it]\n"
     ]
    }
   ],
   "source": [
    "for epoch in tqdm(range(10)):\n",
    "    for i, data in enumerate(cts):\n",
    "        if i<len(cts):\n",
    "            optimizer.zero_grad()\n",
    "            code = ce(data)\n",
    "            loss = criterion(code)\n",
    "            loss.backward()\n",
    "            optimizer.step()"
   ]
  },
  {
   "cell_type": "code",
   "execution_count": 14,
   "metadata": {},
   "outputs": [
    {
     "data": {
      "text/plain": [
       "[Parameter containing:\n",
       " tensor([[-0.6315, -0.0026]], requires_grad=True), Parameter containing:\n",
       " tensor([0.0639], requires_grad=True), Parameter containing:\n",
       " tensor([[1.9455],\n",
       "         [1.4711],\n",
       "         [1.1982],\n",
       "         [1.0080],\n",
       "         [0.8622]], requires_grad=True), Parameter containing:\n",
       " tensor([-0.0358, -0.0031,  0.0155,  0.0286,  0.0388], requires_grad=True)]"
      ]
     },
     "execution_count": 14,
     "metadata": {},
     "output_type": "execute_result"
    }
   ],
   "source": [
    "list(ce.parameters())"
   ]
  },
  {
   "cell_type": "markdown",
   "metadata": {},
   "source": [
    "Looking good!!"
   ]
  },
  {
   "cell_type": "markdown",
   "metadata": {},
   "source": [
    "## Coming next\n",
    "Preparations for the screening: Deriving the latent and encoding model, the latent predictive model, and the predictive model."
   ]
  }
 ],
 "metadata": {
  "kernelspec": {
   "display_name": "Python 3",
   "language": "python",
   "name": "python3"
  },
  "language_info": {
   "codemirror_mode": {
    "name": "ipython",
    "version": 3
   },
   "file_extension": ".py",
   "mimetype": "text/x-python",
   "name": "python",
   "nbconvert_exporter": "python",
   "pygments_lexer": "ipython3",
   "version": "3.7.4"
  }
 },
 "nbformat": 4,
 "nbformat_minor": 4
}
