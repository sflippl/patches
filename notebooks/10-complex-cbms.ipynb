{
 "cells": [
  {
   "cell_type": "markdown",
   "metadata": {},
   "source": [
    "# Going beyond simple CBMs"
   ]
  },
  {
   "cell_type": "code",
   "execution_count": 1,
   "metadata": {},
   "outputs": [],
   "source": [
    "import patches\n",
    "import torch\n",
    "import torch.utils as utils\n",
    "import lettertask\n",
    "import torch.nn as nn\n",
    "import torch.optim as optim\n",
    "from tqdm import tqdm\n",
    "import numpy as np\n",
    "import plotnine as gg\n",
    "import lazytools_sflippl as lazytools\n",
    "import time\n",
    "import pandas as pd"
   ]
  },
  {
   "cell_type": "code",
   "execution_count": 2,
   "metadata": {},
   "outputs": [],
   "source": [
    "cbm = lettertask.data.CompositionalBinaryModel(\n",
    "    width=[50, 10, 20, 40, 100, 40],\n",
    "    change_probability=[0.05, 0.5, 0.2, 0.5, 0.1, 0.2],\n",
    "    samples=100000,\n",
    "    seed=None\n",
    ")"
   ]
  },
  {
   "cell_type": "code",
   "execution_count": 3,
   "metadata": {},
   "outputs": [],
   "source": [
    "cts = patches.data.Contrastive1DTimeSeries(cbm.to_array())"
   ]
  },
  {
   "cell_type": "code",
   "execution_count": 4,
   "metadata": {},
   "outputs": [],
   "source": [
    "cdl = utils.data.DataLoader(cts, batch_size=8, drop_last=True)"
   ]
  },
  {
   "cell_type": "code",
   "execution_count": 5,
   "metadata": {},
   "outputs": [],
   "source": [
    "ce = patches.networks.LinearScaffold(2, data=cts, bias=False)"
   ]
  },
  {
   "cell_type": "code",
   "execution_count": 6,
   "metadata": {},
   "outputs": [],
   "source": [
    "criterion = patches.losses.ContrastiveLoss(loss=patches.losses.BilinearLoss())"
   ]
  },
  {
   "cell_type": "code",
   "execution_count": 7,
   "metadata": {},
   "outputs": [],
   "source": [
    "ideal_1 = np.array([1]*50+[0]*(10+20+40+100+40))/np.sqrt(50)"
   ]
  },
  {
   "cell_type": "code",
   "execution_count": 8,
   "metadata": {},
   "outputs": [],
   "source": [
    "ideal_2 = np.array([0]*(50+10+20+40)+[1]*100+[0]*40)/np.sqrt(100)"
   ]
  },
  {
   "cell_type": "code",
   "execution_count": 9,
   "metadata": {},
   "outputs": [
    {
     "name": "stderr",
     "output_type": "stream",
     "text": [
      "1.0000000000002733it [00:37, 37.30s/it]                       \n"
     ]
    }
   ],
   "source": [
    "optimizer = optim.Adam(ce.parameters(), lr=1e-2)\n",
    "angle_1 = []\n",
    "angle_2 = []\n",
    "loss_traj = []\n",
    "running_loss = 0\n",
    "n_epochs = 1\n",
    "with tqdm(total=n_epochs) as pbar:\n",
    "    for epoch in range(n_epochs):\n",
    "        running_loss = 0\n",
    "        for i, data in enumerate(cdl):\n",
    "            if i<len(cdl):\n",
    "                if i % 10 == 0:\n",
    "                    est = list(ce.parameters())[0].detach().numpy()\n",
    "                    angle_1.append(np.matmul(ideal_1, est[0,:].T)/np.sqrt(np.matmul(est[0,:], est[0,:].T)) +\n",
    "                                   np.matmul(ideal_1, est[1,:].T)/np.sqrt(np.matmul(est[1,:], est[1,:].T)))\n",
    "                    angle_2.append(np.matmul(ideal_2, est[0,:].T)/np.sqrt(np.matmul(est[0,:], est[0,:].T)) +\n",
    "                                   np.matmul(ideal_2, est[1,:].T)/np.sqrt(np.matmul(est[1,:], est[1,:].T)))\n",
    "                optimizer.zero_grad()\n",
    "                code = ce(data)\n",
    "                loss = criterion(code)\n",
    "                loss.backward()\n",
    "                optimizer.step()\n",
    "                running_loss += loss\n",
    "                if i % 500 == 499:\n",
    "                    loss_traj.append(running_loss.detach().numpy()/500)\n",
    "                    running_loss = 0\n",
    "                pbar.update(1/len(cdl))"
   ]
  },
  {
   "cell_type": "code",
   "execution_count": 39,
   "metadata": {},
   "outputs": [
    {
     "data": {
      "text/plain": [
       "(2, 260)"
      ]
     },
     "execution_count": 39,
     "metadata": {},
     "output_type": "execute_result"
    }
   ],
   "source": [
    "est.shape"
   ]
  },
  {
   "cell_type": "code",
   "execution_count": 10,
   "metadata": {},
   "outputs": [],
   "source": [
    "loss_df = lazytools.array_to_dataframe(np.array(loss_traj))\\\n",
    "                   .rename(columns={'dim0': 'steps', 'array': 'loss'})"
   ]
  },
  {
   "cell_type": "code",
   "execution_count": 11,
   "metadata": {},
   "outputs": [
    {
     "data": {
      "text/plain": [
       "array([[178.66173  ,   7.4092574],\n",
       "       [  7.4092574, 242.62631  ]], dtype=float32)"
      ]
     },
     "execution_count": 11,
     "metadata": {},
     "output_type": "execute_result"
    }
   ],
   "source": [
    "np.matmul(est, est.T)"
   ]
  },
  {
   "cell_type": "code",
   "execution_count": 14,
   "metadata": {},
   "outputs": [
    {
     "data": {
      "image/png": "[encoded data removed]",
      "text/plain": [
       "<Figure size 640x480 with 1 Axes>"
      ]
     },
     "metadata": {},
     "output_type": "display_data"
    },
    {
     "data": {
      "text/plain": [
       "<ggplot: (-9223363261129284920)>"
      ]
     },
     "execution_count": 14,
     "metadata": {},
     "output_type": "execute_result"
    }
   ],
   "source": [
    "(gg.ggplot(loss_df, gg.aes(x='steps', y='loss')) +\n",
    "    gg.geom_line())"
   ]
  },
  {
   "cell_type": "code",
   "execution_count": 15,
   "metadata": {},
   "outputs": [],
   "source": [
    "angle_1_df = lazytools.array_to_dataframe(np.array(angle_1))\\\n",
    "                      .rename(columns={'dim0': 'steps', 'array': 'angle'})\n",
    "angle_1_df['latent_dim'] = np.array('1')"
   ]
  },
  {
   "cell_type": "code",
   "execution_count": 16,
   "metadata": {},
   "outputs": [],
   "source": [
    "angle_2_df = lazytools.array_to_dataframe(np.array(angle_2))\\\n",
    "                      .rename(columns={'dim0': 'steps', 'array': 'angle'})\n",
    "angle_2_df['latent_dim'] = np.array('2')"
   ]
  },
  {
   "cell_type": "code",
   "execution_count": 17,
   "metadata": {},
   "outputs": [],
   "source": [
    "angle_df = pd.concat([angle_1_df, angle_2_df])"
   ]
  },
  {
   "cell_type": "code",
   "execution_count": 18,
   "metadata": {},
   "outputs": [
    {
     "data": {
      "image/png": "[encoded data removed]",
      "text/plain": [
       "<Figure size 640x480 with 2 Axes>"
      ]
     },
     "metadata": {},
     "output_type": "display_data"
    },
    {
     "data": {
      "text/plain": [
       "<ggplot: (-9223363261129314984)>"
      ]
     },
     "execution_count": 18,
     "metadata": {},
     "output_type": "execute_result"
    }
   ],
   "source": [
    "(gg.ggplot(angle_df, gg.aes(x='steps', y='angle')) +\n",
    "    gg.geom_line() + \n",
    "    gg.facet_wrap('latent_dim'))"
   ]
  }
 ],
 "metadata": {
  "kernelspec": {
   "display_name": "Python 3",
   "language": "python",
   "name": "python3"
  },
  "language_info": {
   "codemirror_mode": {
    "name": "ipython",
    "version": 3
   },
   "file_extension": ".py",
   "mimetype": "text/x-python",
   "name": "python",
   "nbconvert_exporter": "python",
   "pygments_lexer": "ipython3",
   "version": "3.7.1"
  }
 },
 "nbformat": 4,
 "nbformat_minor": 2
}
